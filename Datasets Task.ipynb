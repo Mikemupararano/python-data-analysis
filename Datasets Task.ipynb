{
 "cells": [
  {
   "cell_type": "markdown",
   "metadata": {
    "id": "_yS6VSYNQlRV"
   },
   "source": [
    "# Datasets Task"
   ]
  },
  {
   "cell_type": "markdown",
   "metadata": {
    "id": "xxJgNn26RYXy"
   },
   "source": [
    "In this compulsory task you will use pandas to select data from a dataset and explain the data retrieved for a given line of code."
   ]
  },
  {
   "cell_type": "code",
   "execution_count": null,
   "metadata": {
    "id": "tJYiNSV2MeX3"
   },
   "outputs": [],
   "source": [
    "import pandas as pd"
   ]
  },
  {
   "cell_type": "markdown",
   "metadata": {
    "id": "a7Kn2dBSMojX"
   },
   "source": [
    "You will use the same `balance.txt` dataset used in the example Jupyter notebook. Remember to ensure it is in the same folder as this notebook."
   ]
  },
  {
   "cell_type": "code",
   "execution_count": null,
   "metadata": {
    "id": "JMyj6fTSMiNr"
   },
   "outputs": [],
   "source": [
    "df = pd.read_csv('balance.txt',sep=' ')"
   ]
  },
  {
   "cell_type": "markdown",
   "metadata": {
    "id": "BKTMPK2USayL"
   },
   "source": [
    "1. Write the code that performs the action described in the following statements."
   ]
  },
  {
   "cell_type": "code",
   "execution_count": 2,
   "metadata": {
    "id": "j_ic1wpxMCmu"
   },
   "outputs": [
    {
     "name": "stdout",
     "output_type": "stream",
     "text": [
      "   Limit  Rating\n",
      "0   3606     283\n",
      "1   6645     483\n",
      "2   7075     514\n",
      "3   9504     681\n",
      "4   4897     357\n"
     ]
    }
   ],
   "source": [
    "# Select the 'Limit' and 'Rating' columns of the first five observations\n",
    "import pandas as pd\n",
    "\n",
    "# Reading the data from 'balance.txt' with space separator\n",
    "df = pd.read_csv('balance.txt', sep=' ')\n",
    "\n",
    "# Selecting the 'Limit' and 'Rating' columns of the first five observations\n",
    "selected_columns = df[['Limit', 'Rating']].head(5)\n",
    "print(selected_columns)\n"
   ]
  },
  {
   "cell_type": "code",
   "execution_count": 1,
   "metadata": {
    "id": "H8JeFeHRMWfL"
   },
   "outputs": [
    {
     "name": "stdout",
     "output_type": "stream",
     "text": [
      "      Balance   Income  Limit  Rating  Cards  Age  Education  Gender Student  \\\n",
      "2   22.530409  104.593   7075     514      4   71         11    Male      No   \n",
      "5   22.486178   80.180   8047     569      4   77         10    Male      No   \n",
      "10  13.994990   63.095   8117     589      4   30         14    Male      No   \n",
      "20   9.853100   17.700   2860     235      4   63         16  Female      No   \n",
      "29  14.007770   26.813   5611     411      4   55         16  Female      No   \n",
      "\n",
      "   Married  Ethnicity  \n",
      "2       No      Asian  \n",
      "5       No  Caucasian  \n",
      "10     Yes  Caucasian  \n",
      "20      No      Asian  \n",
      "29      No  Caucasian  \n"
     ]
    }
   ],
   "source": [
    "# Select the first five observations with 4 cards\n",
    "import pandas as pd\n",
    "\n",
    "# Reading the data from 'balance.txt' with space separator\n",
    "df = pd.read_csv('balance.txt', sep=' ')\n",
    "\n",
    "# Selecting the first five observations with 4 cards\n",
    "selected_rows = df[df['Cards'] == 4].head(5)\n",
    "print(selected_rows)\n"
   ]
  },
  {
   "cell_type": "code",
   "execution_count": 2,
   "metadata": {
    "id": "CH3AvNv6MY8d"
   },
   "outputs": [
    {
     "name": "stdout",
     "output_type": "stream",
     "text": [
      "       Balance   Income  Limit  Rating  Cards  Age  Education  Gender Student  \\\n",
      "60   13.297283   35.510   5198     364      2   35         20  Female      No   \n",
      "51   13.010768   39.705   3969     301      2   27         20    Male      No   \n",
      "378  10.140785   19.349   4941     366      1   33         19    Male      No   \n",
      "247  13.774598   36.364   2220     188      3   50         19    Male      No   \n",
      "238  11.079748   26.532   2910     236      6   58         19  Female      No   \n",
      "..         ...      ...    ...     ...    ...  ...        ...     ...     ...   \n",
      "284   8.298482   14.711   2047     167      2   67          6    Male      No   \n",
      "368  19.555838   89.000   5759     440      3   37          6  Female      No   \n",
      "224  25.262836  121.709   7818     584      4   50          6    Male      No   \n",
      "254  13.997826   36.508   6386     469      4   79          6  Female      No   \n",
      "30   10.201523   34.142   5666     413      4   47          5  Female      No   \n",
      "\n",
      "    Married         Ethnicity  \n",
      "60       No             Asian  \n",
      "51      Yes  African American  \n",
      "378     Yes         Caucasian  \n",
      "247      No         Caucasian  \n",
      "238     Yes         Caucasian  \n",
      "..      ...               ...  \n",
      "284     Yes         Caucasian  \n",
      "368      No         Caucasian  \n",
      "224     Yes         Caucasian  \n",
      "254     Yes         Caucasian  \n",
      "30      Yes         Caucasian  \n",
      "\n",
      "[400 rows x 11 columns]\n"
     ]
    }
   ],
   "source": [
    "# Sort the observations by 'Education'. Show users with a high education value first.\n",
    "import pandas as pd\n",
    "\n",
    "# Reading the data from 'balance.txt' with space separator\n",
    "df = pd.read_csv('balance.txt', sep=' ')\n",
    "\n",
    "# Sorting the observations by 'Education' column in descending order\n",
    "sorted_df = df.sort_values(by='Education', ascending=False)\n",
    "\n",
    "# Displaying the sorted DataFrame\n",
    "print(sorted_df)\n"
   ]
  },
  {
   "cell_type": "markdown",
   "metadata": {
    "id": "7D6UiDd8M3VA"
   },
   "source": [
    "2. Write a short explanation in the form of a comment for the following lines of code. For example:  \n",
    "```\n",
    "# Selects the first 5 rows, and all of the columns for those rows.\n",
    "df.iloc[:5,:]\n",
    "```"
   ]
  },
  {
   "cell_type": "code",
   "execution_count": null,
   "metadata": {
    "id": "2ER3T_1HM27b"
   },
   "outputs": [],
   "source": [
    "#  This code selects all rows and all columns in the DataFrame 'df' using integer-based indexing with iloc.\n",
    "df.iloc[:,:]"
   ]
  },
  {
   "cell_type": "code",
   "execution_count": null,
   "metadata": {
    "id": "-CaKYE9YM_1-"
   },
   "outputs": [],
   "source": [
    "#  This code selects rows starting from the sixth row (index 5) and all columns starting from the sixth column (index 5) onwards in the DataFrame 'df' using integer-based indexing with iloc.\n",
    "df.iloc[5:,5:]"
   ]
  },
  {
   "cell_type": "code",
   "execution_count": null,
   "metadata": {
    "id": "jYTu3SJINTFP"
   },
   "outputs": [],
   "source": [
    "# This code selects all rows and only the first column (index 0) in the DataFrame 'df' using integer-based indexing with iloc.\n",
    "\n",
    "df.iloc[:,0]"
   ]
  },
  {
   "cell_type": "code",
   "execution_count": null,
   "metadata": {
    "id": "YRVRGDCvNq6k"
   },
   "outputs": [],
   "source": [
    "# This code selects the tenth row (index 9) and all columns in the DataFrame 'df' using integer-based indexing with iloc.\n",
    "df.iloc[9,:]"
   ]
  }
 ],
 "metadata": {
  "colab": {
   "provenance": []
  },
  "kernelspec": {
   "display_name": "Python 3 (ipykernel)",
   "language": "python",
   "name": "python3"
  },
  "language_info": {
   "codemirror_mode": {
    "name": "ipython",
    "version": 3
   },
   "file_extension": ".py",
   "mimetype": "text/x-python",
   "name": "python",
   "nbconvert_exporter": "python",
   "pygments_lexer": "ipython3",
   "version": "3.12.3"
  }
 },
 "nbformat": 4,
 "nbformat_minor": 4
}
